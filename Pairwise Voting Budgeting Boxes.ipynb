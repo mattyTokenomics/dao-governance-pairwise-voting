{
 "cells": [
  {
   "cell_type": "markdown",
   "id": "61bcf28c",
   "metadata": {},
   "source": [
    "A simple Python implementation of the core 'budgeting boxes' pairwise voting algorithm used for allocating token rewards and funding, as described in this whitepaper:\n",
    "https://uploads-ssl.webflow.com/61840fafb9a4c433c1470856/639b50ee30b729cb016806c1_BudgetingBoxes.pdf\n",
    "\n",
    "This alternate form of governance voting is designed to mitigate many of the shortcomings of the current \"1 token, 1 vote, >50% wins\" status quo for decentralized governance:\n",
    "1. Spamming the mechanism with fake projects\n",
    "2. Scammers claiming to represent legitimate projects\n",
    "3. Projects bribing voters to vote for projects in excess of their true value\n",
    "4. Winning projects using their reputation to vote themselves up\n",
    "5. Winning projects colluding to claim a larger share of CLNY\n",
    "6. Voter apathy\n",
    "7. Cognitive biases of various kinds, like the Keynesian Beauty Contest\n",
    "8. Voters voting dishonestly or randomly\n",
    "9. Sybil attacks of any sort (either among voters or projects)"
   ]
  },
  {
   "cell_type": "code",
   "execution_count": 1,
   "id": "43060eea",
   "metadata": {},
   "outputs": [],
   "source": [
    "import numpy as np"
   ]
  },
  {
   "cell_type": "code",
   "execution_count": 2,
   "id": "fe1ad305",
   "metadata": {},
   "outputs": [
    {
     "data": {
      "text/plain": [
       "'\\na,b,c,d\\n\\na vs b A wins\\na vs c C wins\\na vs d A wins\\n\\nb vs a A wins\\nb vs c B wins\\nb vs d B wins\\n\\nc vs a C wins\\nc vs b B wins\\nc vs d D wins\\n\\nd vs a A wins\\nd vs b B wins\\nd vs c D wins\\n\\n'"
      ]
     },
     "execution_count": 2,
     "metadata": {},
     "output_type": "execute_result"
    }
   ],
   "source": [
    "# Conduct Pairwise Voting Process\n",
    "\n",
    "'''\n",
    "a,b,c,d\n",
    "\n",
    "a vs b A wins\n",
    "a vs c C wins\n",
    "a vs d A wins\n",
    "\n",
    "b vs a A wins\n",
    "b vs c B wins\n",
    "b vs d B wins\n",
    "\n",
    "c vs a C wins\n",
    "c vs b B wins\n",
    "c vs d D wins\n",
    "\n",
    "d vs a A wins\n",
    "d vs b B wins\n",
    "d vs c D wins\n",
    "\n",
    "'''"
   ]
  },
  {
   "cell_type": "code",
   "execution_count": 3,
   "id": "3646d732",
   "metadata": {},
   "outputs": [],
   "source": [
    "# Represent Pairwise Voting Results As an Array of Wins\n",
    "\n",
    "M = np.array([\n",
    "    [2,1,0,1],\n",
    "    [0,2,1,1],\n",
    "    [1,0,1,0],\n",
    "    [0,0,1,1]\n",
    "])"
   ]
  },
  {
   "cell_type": "code",
   "execution_count": 4,
   "id": "a75cfa32",
   "metadata": {},
   "outputs": [
    {
     "data": {
      "text/plain": [
       "array([[0.66666667, 0.33333333, 0.        , 0.33333333],\n",
       "       [0.        , 0.66666667, 0.33333333, 0.33333333],\n",
       "       [0.33333333, 0.        , 0.33333333, 0.        ],\n",
       "       [0.        , 0.        , 0.33333333, 0.33333333]])"
      ]
     },
     "execution_count": 4,
     "metadata": {},
     "output_type": "execute_result"
    }
   ],
   "source": [
    "# Transform M into Probabilities\n",
    "\n",
    "column_sums = M.sum(axis=0)\n",
    "M = M / column_sums\n",
    "M"
   ]
  },
  {
   "cell_type": "code",
   "execution_count": 5,
   "id": "7aed4fcc",
   "metadata": {},
   "outputs": [
    {
     "data": {
      "text/plain": [
       "array([[0.66666667, 0.33333333, 0.        , 0.33333333],\n",
       "       [0.        , 0.66666667, 0.33333333, 0.33333333],\n",
       "       [0.33333333, 0.        , 0.33333333, 0.        ],\n",
       "       [0.        , 0.        , 0.33333333, 0.33333333]])"
      ]
     },
     "execution_count": 5,
     "metadata": {},
     "output_type": "execute_result"
    }
   ],
   "source": [
    "# Add Dampening Factor\n",
    "\n",
    "def dampening(M, K, d):\n",
    "    M = (d*M) + ((1-d) / K)\n",
    "    return M\n",
    "\n",
    "M = dampening(M,4,1)\n",
    "M"
   ]
  },
  {
   "cell_type": "code",
   "execution_count": 6,
   "id": "c5dd93f7",
   "metadata": {},
   "outputs": [
    {
     "data": {
      "text/plain": [
       "array([0.4, 0.3, 0.2, 0.1])"
      ]
     },
     "execution_count": 6,
     "metadata": {},
     "output_type": "execute_result"
    }
   ],
   "source": [
    "# Compute the Eigenvector `v` Representing Budget or Ranking\n",
    "\n",
    "eps = 0.001 # Tolerance for convergence\n",
    "\n",
    "def ranking_eigenvector(M, eps):\n",
    "    n_rows, n_cols = M.shape\n",
    "    \n",
    "    if n_rows != n_cols:\n",
    "        raise ValueError('Requires an nxn matrix. M provided is not of expected dimensions.')\n",
    "    \n",
    "    v = np.ones(n_rows) / np.sqrt(n_rows)  # Initialize v to a normalized vector\n",
    "    while True:\n",
    "        Mv = np.dot(M, v)\n",
    "        Mv = Mv / np.linalg.norm(Mv)  # Normalize the result\n",
    "        if np.linalg.norm(v - Mv) < eps:  # Check for convergence\n",
    "            break\n",
    "        v = Mv\n",
    "        \n",
    "    v_normalized = v / np.sum(v) # Normalize to sum to 1\n",
    "    \n",
    "    # Determine number of decimal places in `eps`\n",
    "    str_eps = str(eps)\n",
    "    decimal_index = str_eps.find('.')\n",
    "    if decimal_index != -1:\n",
    "        decimals = len(str_eps) - decimal_index - 1\n",
    "    else:\n",
    "        decimals = 0\n",
    "        \n",
    "    v_rounded = np.round(v_normalized, decimals) # Round each item to `eps` number of decimals\n",
    "    \n",
    "    return v_rounded\n",
    "\n",
    "ranking_eigenvector(M, eps)"
   ]
  },
  {
   "cell_type": "code",
   "execution_count": null,
   "id": "3feeaf82",
   "metadata": {},
   "outputs": [],
   "source": []
  }
 ],
 "metadata": {
  "kernelspec": {
   "display_name": "Python 3 (ipykernel)",
   "language": "python",
   "name": "python3"
  },
  "language_info": {
   "codemirror_mode": {
    "name": "ipython",
    "version": 3
   },
   "file_extension": ".py",
   "mimetype": "text/x-python",
   "name": "python",
   "nbconvert_exporter": "python",
   "pygments_lexer": "ipython3",
   "version": "3.9.13"
  }
 },
 "nbformat": 4,
 "nbformat_minor": 5
}
